{
 "cells": [
  {
   "cell_type": "code",
   "execution_count": 3,
   "metadata": {},
   "outputs": [],
   "source": [
    "import numpy as np\n",
    "import pandas as pd\n",
    "import itertools\n",
    "import matplotlib.pyplot as plt\n",
    "import pickle\n",
    "\n",
    "%matplotlib inline"
   ]
  },
  {
   "cell_type": "code",
   "execution_count": 220,
   "metadata": {},
   "outputs": [],
   "source": [
    "%run get_words"
   ]
  },
  {
   "cell_type": "code",
   "execution_count": 221,
   "metadata": {},
   "outputs": [],
   "source": [
    "with open('five_letter_words.pkl', 'rb') as handle:\n",
    "    all_words = pickle.load(handle)"
   ]
  },
  {
   "cell_type": "code",
   "execution_count": 222,
   "metadata": {},
   "outputs": [],
   "source": [
    "class WordleBrain():\n",
    "    def __init__(self, words):\n",
    "        self._assert_words(words)\n",
    "\n",
    "        self.words = words\n",
    "        self._let2num, self._num2let = self._get_letter_map()\n",
    "        self.X = self._words2mat(self.words)\n",
    "        \n",
    "    def _get_letter_map(self):\n",
    "        letters = sorted(list(set(\"\".join(self.words))))\n",
    "        let2num = {l:n for n,l in enumerate(letters)}\n",
    "        num2let = {n:l for l,n in let2num.items()}\n",
    "        return let2num, num2let\n",
    "\n",
    "    def _assert_words(self, words):\n",
    "        # Assert length = 5\n",
    "        assert all([len(w) == 5 for w in words]), \"All words must have length 5\"\n",
    "\n",
    "        # Assert case\n",
    "        assert all([w.lower() == w for w in words]), \"All words must be lower case\"\n",
    "\n",
    "        # Assert used letters\n",
    "        only_allowed = \"abcdefghijklmnopqrstuvxyzæøå\"\n",
    "        used = set(\"\".join(words))\n",
    "        assert all([u in only_allowed for u in used]), \"Only allowed letters are {only_allowed}\"\n",
    "\n",
    "    def _word2vec(self, word):\n",
    "            return np.array([self._let2num[l] for l in word]).astype('int8')\n",
    "    \n",
    "    def _vec2word(self, vec):\n",
    "        return \"\".join([self._num2let[n] for n in vec])\n",
    "    \n",
    "    def _words2mat(self, words):\n",
    "        return np.array([self._word2vec(w) for w in words]).astype('int8')\n",
    "    \n",
    "    def _mat2words(self,mat):\n",
    "        return [self._vec2word(vec) for vec in mat]\n",
    "    \n",
    "    "
   ]
  },
  {
   "cell_type": "code",
   "execution_count": 223,
   "metadata": {},
   "outputs": [],
   "source": [
    "wb = WordleBrain(all_words)\n",
    "X = wb.X"
   ]
  },
  {
   "cell_type": "code",
   "execution_count": 244,
   "metadata": {},
   "outputs": [
    {
     "data": {
      "text/plain": [
       "['bygde', 'hugde', 'kogde', 'lægde']"
      ]
     },
     "execution_count": 244,
     "metadata": {},
     "output_type": "execute_result"
    }
   ],
   "source": [
    "def reduce_vecs(X, guess, response):\n",
    "    assert len(guess) == 5, \"Guess must have length 5\"\n",
    "    assert len(response) == 5, \"Response must hav length 5\"\n",
    "    assert all([r in [0,1,2] for r in response]), \"Response must be either 0 (gray), 1 (orange), 2 (green)\"\n",
    "\n",
    "    double_letters = list(set([g for g in guess if guess.count(g) > 1]))\n",
    "    double_idx = [idx for idx,g in enumerate(guess) if g in double_letters]\n",
    "    \n",
    "    mask = np.array([True]*len(X))\n",
    "    if not double_letters:\n",
    "        green_idx  = [idx for idx,r in enumerate(response) if r == 2]\n",
    "        orange_idx = [idx for idx,r in enumerate(response) if r == 1]\n",
    "        gray_idx   = [idx for idx,r in enumerate(response) if r == 0]\n",
    "        green_guesses = np.array(guess)[green_idx]\n",
    "        orange_guesses = np.array(guess)[orange_idx]\n",
    "        gray_guesses = np.array(guess)[gray_idx]\n",
    "        \n",
    "        # Green: all letters must be in correct position\n",
    "        mask &= np.all(X[:,green_idx] == green_guesses, axis = 1)\n",
    "        \n",
    "        # Orange: Word must contain all orange letters, but not in the guessed positions\n",
    "        contains_all_orange = np.sum(np.isin(X,orange_guesses), axis = 1) == len(orange_guesses)\n",
    "        letters_not_at_orange = np.all(X[:,orange_idx] != orange_guesses, axis = 1)\n",
    "        mask &= contains_all_orange & letters_not_at_orange\n",
    "        \n",
    "        # Gray: Word must not contain letters\n",
    "        contains_any_gray = np.any(np.isin(X, gray_guesses), axis = 1)\n",
    "        mask &= ~contains_any_gray\n",
    "        \n",
    "    else: # Be aware that some letters may occure twice. \n",
    "        # The below code would also apply for no double letters\n",
    "        # Iterate over each guess letter g and response r, from left to right\n",
    "        colored_letters = []\n",
    "        for idx, (g,r) in enumerate(zip(guess,response)):\n",
    "            if r == 2: # Green: Correct letter and position\n",
    "                colored_letters.append(g)\n",
    "                mask &= X[:,idx] == g\n",
    "            else: # If orange or gray\n",
    "                # Letter should not be in this position\n",
    "                mask &= X[:,idx] != g \n",
    "                if r == 1: # Orange: Correct letter but wrong position\n",
    "                    colored_letters.append(g)\n",
    "                    if g in colored_letters:\n",
    "                        # The letter must occure at least as many times as it is collered\n",
    "                        mask &= np.sum(X == g, axis = 1) >= colored_letters.count(g)\n",
    "                    else:\n",
    "                        # Letter must be in word at least once\n",
    "                        mask &= np.any(X == g, axis = 1)\n",
    "                elif r == 0: # Gray: Wrong letter\n",
    "                    if g in colored_letters:\n",
    "                        # The letter must occure exactly as many times as it is collered\n",
    "                        mask &= np.sum(X == g, axis = 1) == colored_letters.count(g)\n",
    "                    else:\n",
    "                        # The letter cannot be in the word\n",
    "                        mask &= ~np.any(X == g, axis = 1)\n",
    "                        \n",
    "    return X[mask]\n",
    "\n",
    "_X = reduce_vecs(X, list(wb._word2vec('sagde')) ,[0,0,2,2,2])\n",
    "wb._mat2words(_X)"
   ]
  },
  {
   "cell_type": "code",
   "execution_count": 238,
   "metadata": {},
   "outputs": [
    {
     "data": {
      "text/plain": [
       "['bygde',\n",
       " 'bygds',\n",
       " 'hugde',\n",
       " 'kogde',\n",
       " 'lagde',\n",
       " 'lægde',\n",
       " 'lægds',\n",
       " 'sagde',\n",
       " 'sigde',\n",
       " 'sigds']"
      ]
     },
     "execution_count": 238,
     "metadata": {},
     "output_type": "execute_result"
    }
   ],
   "source": [
    "wb._mat2words(X[np.all(X[:,[2,3]] == np.array(wb._word2vec('sagde'))[[2,3]], axis = 1)])"
   ]
  },
  {
   "cell_type": "code",
   "execution_count": 228,
   "metadata": {},
   "outputs": [
    {
     "data": {
      "text/plain": [
       "['sagde']"
      ]
     },
     "execution_count": 228,
     "metadata": {},
     "output_type": "execute_result"
    }
   ],
   "source": [
    "[x for x in wb._mat2words(X) if 'sagde' in x]"
   ]
  },
  {
   "cell_type": "code",
   "execution_count": 204,
   "metadata": {},
   "outputs": [],
   "source": [
    "data = pd.read_csv(\"ods_fullforms_2020-08-26.csv\",sep='\\t',header = None)"
   ]
  },
  {
   "cell_type": "code",
   "execution_count": 206,
   "metadata": {},
   "outputs": [
    {
     "data": {
      "text/plain": [
       "['lagde', 'sagde']"
      ]
     },
     "execution_count": 206,
     "metadata": {},
     "output_type": "execute_result"
    }
   ],
   "source": [
    "words = list(data[0])\n",
    "map_letters = {\n",
    "        'aa':'å',\n",
    "        'ã':'a',\n",
    "        'ê':'e',\n",
    "        'é':'e'\n",
    "        }\n",
    "for old, new in map_letters.items():\n",
    "    words = [w.replace(old, new) for w in words]\n",
    "    \n",
    "    \n",
    "# 5 letters\n",
    "words = [w for w in words if len(w) == 5]\n",
    "\n",
    "# Remove words with strange symbols\n",
    "only_allowed = \"abcdefghijklmnopqrstuvxyzæøå\"\n",
    "word_allowed = lambda word: all([letter in only_allowed for letter in word])\n",
    "words = [w for w in words if word_allowed(w)]\n",
    "\n",
    "# Drop duplicates\n",
    "words = sorted(list(set(words)))\n",
    "\n",
    "[w for w in words if 'agde' in w]"
   ]
  },
  {
   "cell_type": "code",
   "execution_count": 180,
   "metadata": {},
   "outputs": [
    {
     "data": {
      "text/plain": [
       "array([False, False,  True, ...,  True,  True,  True])"
      ]
     },
     "execution_count": 180,
     "metadata": {},
     "output_type": "execute_result"
    }
   ],
   "source": [
    "~(X[:,3] == 4)"
   ]
  },
  {
   "cell_type": "code",
   "execution_count": 149,
   "metadata": {},
   "outputs": [],
   "source": [
    "def f1(X):\n",
    "    for idx in range(5):\n",
    "        for n in range(20):\n",
    "            mask = X[:,idx] > n\n",
    "            X = X[mask]\n",
    "    return X\n",
    "        \n",
    "def f2(X):\n",
    "    mask = np.array([True]*len(X))\n",
    "    for idx in range(5):\n",
    "        for n in range(20):\n",
    "            mask &= X[:,idx] > n\n",
    "    return X[mask]"
   ]
  },
  {
   "cell_type": "code",
   "execution_count": 144,
   "metadata": {},
   "outputs": [
    {
     "name": "stdout",
     "output_type": "stream",
     "text": [
      "803 µs ± 134 µs per loop (mean ± std. dev. of 7 runs, 1000 loops each)\n"
     ]
    }
   ],
   "source": [
    "import timeit"
   ]
  },
  {
   "cell_type": "code",
   "execution_count": 197,
   "metadata": {},
   "outputs": [],
   "source": [
    "def update_words(all_words, guess, response):\n",
    "    words = all_words\n",
    "    color_letters = []\n",
    "    for idx, (r,l) in enumerate(zip(response, guess)):\n",
    "        if r == 2: # Green: Correct letter and position\n",
    "            words = [w for w in words if w[idx]==l]\n",
    "            color_letters.append(l)\n",
    "            if not words:\n",
    "                return []\n",
    "        if r == 1: # Orange: Correct letter wrong position\n",
    "            if l in color_letters: # If a previous green or gray\n",
    "                nb_occ_in_word = color_letters.count(l) + 1\n",
    "                words = [w for w in words if w.count(l) >= nb_occ_in_word and (w[idx] != l)]\n",
    "            else:\n",
    "                words = [w for w in words if (l in w) and (w[idx] != l)]\n",
    "            if not words:\n",
    "                return []\n",
    "            color_letters.append(l)\n",
    "        if r == 0: # Gray: Wrong letter\n",
    "            if l in color_letters: # If this letter is collored before, we know that the exact number of occurences is reached\n",
    "                nb_occ_in_word = color_letters.count(l) + 1\n",
    "                words = [w for w in words if w.count(l) == nb_occ_in_word and (w[idx] != l)]\n",
    "                if not words:\n",
    "                    return []\n",
    "            else: # Only exclude if this letter has not been given a color before\n",
    "                words = [w for w in words if l not in w]\n",
    "                if not words:\n",
    "                    return []\n",
    "    return words"
   ]
  },
  {
   "cell_type": "code",
   "execution_count": 198,
   "metadata": {},
   "outputs": [],
   "source": [
    "def get_information(all_words, guess):\n",
    "    nb_all_words = len(all_words)\n",
    "    probs = []\n",
    "    information = 0\n",
    "    # For all patterns\n",
    "    for idx, response in enumerate(list(itertools.product(*[[0,1,2] for _ in range(5)]))):\n",
    "        nb_reduced = len(update_words(all_words, guess, response))\n",
    "        prob = nb_reduced / nb_all_words\n",
    "        information += - prob * np.log2(prob) if prob != 0 else 0\n",
    "\n",
    "    return information"
   ]
  },
  {
   "cell_type": "code",
   "execution_count": 201,
   "metadata": {},
   "outputs": [
    {
     "name": "stdout",
     "output_type": "stream",
     "text": [
      " "
     ]
    },
    {
     "name": "stdout",
     "output_type": "stream",
     "text": [
      "         2015 function calls in 0.492 seconds\n",
      "\n",
      "   Ordered by: internal time\n",
      "\n",
      "   ncalls  tottime  percall  cumtime  percall filename:lineno(function)\n",
      "      314    0.276    0.001    0.276    0.001 <ipython-input-197-2719664d8c6d>:26(<listcomp>)\n",
      "      314    0.115    0.000    0.115    0.000 <ipython-input-197-2719664d8c6d>:6(<listcomp>)\n",
      "      314    0.089    0.000    0.089    0.000 <ipython-input-197-2719664d8c6d>:15(<listcomp>)\n",
      "      243    0.010    0.000    0.491    0.002 <ipython-input-197-2719664d8c6d>:1(update_words)\n",
      "        1    0.002    0.002    0.492    0.492 <ipython-input-198-b3171ce83484>:1(get_information)\n",
      "      581    0.000    0.000    0.000    0.000 {method 'append' of 'list' objects}\n",
      "      244    0.000    0.000    0.000    0.000 {built-in method builtins.len}\n",
      "        1    0.000    0.000    0.492    0.492 {built-in method builtins.exec}\n",
      "        1    0.000    0.000    0.000    0.000 <ipython-input-198-b3171ce83484>:6(<listcomp>)\n",
      "        1    0.000    0.000    0.492    0.492 <string>:1(<module>)\n",
      "        1    0.000    0.000    0.000    0.000 {method 'disable' of '_lsprof.Profiler' objects}"
     ]
    }
   ],
   "source": [
    "%prun get_information(all_words,'hbupæ')"
   ]
  },
  {
   "cell_type": "code",
   "execution_count": 195,
   "metadata": {},
   "outputs": [
    {
     "ename": "KeyboardInterrupt",
     "evalue": "",
     "output_type": "error",
     "traceback": [
      "\u001b[0;31m---------------------------------------------------------------------------\u001b[0m",
      "\u001b[0;31mKeyboardInterrupt\u001b[0m                         Traceback (most recent call last)",
      "\u001b[0;32m<ipython-input-195-3503a1568bcd>\u001b[0m in \u001b[0;36m<module>\u001b[0;34m\u001b[0m\n\u001b[0;32m----> 1\u001b[0;31m \u001b[0minformations\u001b[0m \u001b[0;34m=\u001b[0m \u001b[0;34m[\u001b[0m\u001b[0mget_information\u001b[0m\u001b[0;34m(\u001b[0m\u001b[0mall_words\u001b[0m\u001b[0;34m,\u001b[0m\u001b[0mguess\u001b[0m\u001b[0;34m)\u001b[0m \u001b[0;32mfor\u001b[0m \u001b[0mguess\u001b[0m \u001b[0;32min\u001b[0m \u001b[0mlist\u001b[0m\u001b[0;34m(\u001b[0m\u001b[0mall_words\u001b[0m\u001b[0;34m)\u001b[0m\u001b[0;34m[\u001b[0m\u001b[0;34m:\u001b[0m\u001b[0;36m100\u001b[0m\u001b[0;34m]\u001b[0m\u001b[0;34m]\u001b[0m\u001b[0;34m\u001b[0m\u001b[0;34m\u001b[0m\u001b[0m\n\u001b[0m",
      "\u001b[0;32m<ipython-input-195-3503a1568bcd>\u001b[0m in \u001b[0;36m<listcomp>\u001b[0;34m(.0)\u001b[0m\n\u001b[0;32m----> 1\u001b[0;31m \u001b[0minformations\u001b[0m \u001b[0;34m=\u001b[0m \u001b[0;34m[\u001b[0m\u001b[0mget_information\u001b[0m\u001b[0;34m(\u001b[0m\u001b[0mall_words\u001b[0m\u001b[0;34m,\u001b[0m\u001b[0mguess\u001b[0m\u001b[0;34m)\u001b[0m \u001b[0;32mfor\u001b[0m \u001b[0mguess\u001b[0m \u001b[0;32min\u001b[0m \u001b[0mlist\u001b[0m\u001b[0;34m(\u001b[0m\u001b[0mall_words\u001b[0m\u001b[0;34m)\u001b[0m\u001b[0;34m[\u001b[0m\u001b[0;34m:\u001b[0m\u001b[0;36m100\u001b[0m\u001b[0;34m]\u001b[0m\u001b[0;34m]\u001b[0m\u001b[0;34m\u001b[0m\u001b[0;34m\u001b[0m\u001b[0m\n\u001b[0m",
      "\u001b[0;32m<ipython-input-193-b3171ce83484>\u001b[0m in \u001b[0;36mget_information\u001b[0;34m(all_words, guess)\u001b[0m\n\u001b[1;32m      5\u001b[0m     \u001b[0;31m# For all patterns\u001b[0m\u001b[0;34m\u001b[0m\u001b[0;34m\u001b[0m\u001b[0;34m\u001b[0m\u001b[0m\n\u001b[1;32m      6\u001b[0m     \u001b[0;32mfor\u001b[0m \u001b[0midx\u001b[0m\u001b[0;34m,\u001b[0m \u001b[0mresponse\u001b[0m \u001b[0;32min\u001b[0m \u001b[0menumerate\u001b[0m\u001b[0;34m(\u001b[0m\u001b[0mlist\u001b[0m\u001b[0;34m(\u001b[0m\u001b[0mitertools\u001b[0m\u001b[0;34m.\u001b[0m\u001b[0mproduct\u001b[0m\u001b[0;34m(\u001b[0m\u001b[0;34m*\u001b[0m\u001b[0;34m[\u001b[0m\u001b[0;34m[\u001b[0m\u001b[0;36m0\u001b[0m\u001b[0;34m,\u001b[0m\u001b[0;36m1\u001b[0m\u001b[0;34m,\u001b[0m\u001b[0;36m2\u001b[0m\u001b[0;34m]\u001b[0m \u001b[0;32mfor\u001b[0m \u001b[0m_\u001b[0m \u001b[0;32min\u001b[0m \u001b[0mrange\u001b[0m\u001b[0;34m(\u001b[0m\u001b[0;36m5\u001b[0m\u001b[0;34m)\u001b[0m\u001b[0;34m]\u001b[0m\u001b[0;34m)\u001b[0m\u001b[0;34m)\u001b[0m\u001b[0;34m)\u001b[0m\u001b[0;34m:\u001b[0m\u001b[0;34m\u001b[0m\u001b[0;34m\u001b[0m\u001b[0m\n\u001b[0;32m----> 7\u001b[0;31m         \u001b[0mnb_reduced\u001b[0m \u001b[0;34m=\u001b[0m \u001b[0mlen\u001b[0m\u001b[0;34m(\u001b[0m\u001b[0mupdate_words\u001b[0m\u001b[0;34m(\u001b[0m\u001b[0mall_words\u001b[0m\u001b[0;34m,\u001b[0m \u001b[0mguess\u001b[0m\u001b[0;34m,\u001b[0m \u001b[0mresponse\u001b[0m\u001b[0;34m)\u001b[0m\u001b[0;34m)\u001b[0m\u001b[0;34m\u001b[0m\u001b[0;34m\u001b[0m\u001b[0m\n\u001b[0m\u001b[1;32m      8\u001b[0m         \u001b[0mprob\u001b[0m \u001b[0;34m=\u001b[0m \u001b[0mnb_reduced\u001b[0m \u001b[0;34m/\u001b[0m \u001b[0mnb_all_words\u001b[0m\u001b[0;34m\u001b[0m\u001b[0;34m\u001b[0m\u001b[0m\n\u001b[1;32m      9\u001b[0m         \u001b[0minformation\u001b[0m \u001b[0;34m+=\u001b[0m \u001b[0;34m-\u001b[0m \u001b[0mprob\u001b[0m \u001b[0;34m*\u001b[0m \u001b[0mnp\u001b[0m\u001b[0;34m.\u001b[0m\u001b[0mlog2\u001b[0m\u001b[0;34m(\u001b[0m\u001b[0mprob\u001b[0m\u001b[0;34m)\u001b[0m \u001b[0;32mif\u001b[0m \u001b[0mprob\u001b[0m \u001b[0;34m!=\u001b[0m \u001b[0;36m0\u001b[0m \u001b[0;32melse\u001b[0m \u001b[0;36m0\u001b[0m\u001b[0;34m\u001b[0m\u001b[0;34m\u001b[0m\u001b[0m\n",
      "\u001b[0;32m<ipython-input-192-e81501a3f17e>\u001b[0m in \u001b[0;36mupdate_words\u001b[0;34m(all_words, guess, response)\u001b[0m\n\u001b[1;32m      4\u001b[0m     \u001b[0;32mfor\u001b[0m \u001b[0midx\u001b[0m\u001b[0;34m,\u001b[0m \u001b[0;34m(\u001b[0m\u001b[0mr\u001b[0m\u001b[0;34m,\u001b[0m\u001b[0ml\u001b[0m\u001b[0;34m)\u001b[0m \u001b[0;32min\u001b[0m \u001b[0menumerate\u001b[0m\u001b[0;34m(\u001b[0m\u001b[0mzip\u001b[0m\u001b[0;34m(\u001b[0m\u001b[0mresponse\u001b[0m\u001b[0;34m,\u001b[0m \u001b[0mguess\u001b[0m\u001b[0;34m)\u001b[0m\u001b[0;34m)\u001b[0m\u001b[0;34m:\u001b[0m\u001b[0;34m\u001b[0m\u001b[0;34m\u001b[0m\u001b[0m\n\u001b[1;32m      5\u001b[0m         \u001b[0;32mif\u001b[0m \u001b[0mr\u001b[0m \u001b[0;34m==\u001b[0m \u001b[0;36m2\u001b[0m\u001b[0;34m:\u001b[0m \u001b[0;31m# Green: Correct letter and position\u001b[0m\u001b[0;34m\u001b[0m\u001b[0;34m\u001b[0m\u001b[0m\n\u001b[0;32m----> 6\u001b[0;31m             \u001b[0mwords\u001b[0m \u001b[0;34m=\u001b[0m \u001b[0;34m[\u001b[0m\u001b[0mw\u001b[0m \u001b[0;32mfor\u001b[0m \u001b[0mw\u001b[0m \u001b[0;32min\u001b[0m \u001b[0mwords\u001b[0m \u001b[0;32mif\u001b[0m \u001b[0mw\u001b[0m\u001b[0;34m[\u001b[0m\u001b[0midx\u001b[0m\u001b[0;34m]\u001b[0m\u001b[0;34m==\u001b[0m\u001b[0ml\u001b[0m\u001b[0;34m]\u001b[0m\u001b[0;34m\u001b[0m\u001b[0;34m\u001b[0m\u001b[0m\n\u001b[0m\u001b[1;32m      7\u001b[0m             \u001b[0mcolor_letters\u001b[0m\u001b[0;34m.\u001b[0m\u001b[0mappend\u001b[0m\u001b[0;34m(\u001b[0m\u001b[0ml\u001b[0m\u001b[0;34m)\u001b[0m\u001b[0;34m\u001b[0m\u001b[0;34m\u001b[0m\u001b[0m\n\u001b[1;32m      8\u001b[0m             \u001b[0;32mif\u001b[0m \u001b[0;32mnot\u001b[0m \u001b[0mwords\u001b[0m\u001b[0;34m:\u001b[0m\u001b[0;34m\u001b[0m\u001b[0;34m\u001b[0m\u001b[0m\n",
      "\u001b[0;32m<ipython-input-192-e81501a3f17e>\u001b[0m in \u001b[0;36m<listcomp>\u001b[0;34m(.0)\u001b[0m\n\u001b[1;32m      4\u001b[0m     \u001b[0;32mfor\u001b[0m \u001b[0midx\u001b[0m\u001b[0;34m,\u001b[0m \u001b[0;34m(\u001b[0m\u001b[0mr\u001b[0m\u001b[0;34m,\u001b[0m\u001b[0ml\u001b[0m\u001b[0;34m)\u001b[0m \u001b[0;32min\u001b[0m \u001b[0menumerate\u001b[0m\u001b[0;34m(\u001b[0m\u001b[0mzip\u001b[0m\u001b[0;34m(\u001b[0m\u001b[0mresponse\u001b[0m\u001b[0;34m,\u001b[0m \u001b[0mguess\u001b[0m\u001b[0;34m)\u001b[0m\u001b[0;34m)\u001b[0m\u001b[0;34m:\u001b[0m\u001b[0;34m\u001b[0m\u001b[0;34m\u001b[0m\u001b[0m\n\u001b[1;32m      5\u001b[0m         \u001b[0;32mif\u001b[0m \u001b[0mr\u001b[0m \u001b[0;34m==\u001b[0m \u001b[0;36m2\u001b[0m\u001b[0;34m:\u001b[0m \u001b[0;31m# Green: Correct letter and position\u001b[0m\u001b[0;34m\u001b[0m\u001b[0;34m\u001b[0m\u001b[0m\n\u001b[0;32m----> 6\u001b[0;31m             \u001b[0mwords\u001b[0m \u001b[0;34m=\u001b[0m \u001b[0;34m[\u001b[0m\u001b[0mw\u001b[0m \u001b[0;32mfor\u001b[0m \u001b[0mw\u001b[0m \u001b[0;32min\u001b[0m \u001b[0mwords\u001b[0m \u001b[0;32mif\u001b[0m \u001b[0mw\u001b[0m\u001b[0;34m[\u001b[0m\u001b[0midx\u001b[0m\u001b[0;34m]\u001b[0m\u001b[0;34m==\u001b[0m\u001b[0ml\u001b[0m\u001b[0;34m]\u001b[0m\u001b[0;34m\u001b[0m\u001b[0;34m\u001b[0m\u001b[0m\n\u001b[0m\u001b[1;32m      7\u001b[0m             \u001b[0mcolor_letters\u001b[0m\u001b[0;34m.\u001b[0m\u001b[0mappend\u001b[0m\u001b[0;34m(\u001b[0m\u001b[0ml\u001b[0m\u001b[0;34m)\u001b[0m\u001b[0;34m\u001b[0m\u001b[0;34m\u001b[0m\u001b[0m\n\u001b[1;32m      8\u001b[0m             \u001b[0;32mif\u001b[0m \u001b[0;32mnot\u001b[0m \u001b[0mwords\u001b[0m\u001b[0;34m:\u001b[0m\u001b[0;34m\u001b[0m\u001b[0;34m\u001b[0m\u001b[0m\n",
      "\u001b[0;31mKeyboardInterrupt\u001b[0m: "
     ]
    }
   ],
   "source": [
    "informations = [get_information(all_words,guess) for guess in list(all_words)[:10]]\n"
   ]
  },
  {
   "cell_type": "code",
   "execution_count": 188,
   "metadata": {},
   "outputs": [
    {
     "data": {
      "text/html": [
       "<div>\n",
       "<style scoped>\n",
       "    .dataframe tbody tr th:only-of-type {\n",
       "        vertical-align: middle;\n",
       "    }\n",
       "\n",
       "    .dataframe tbody tr th {\n",
       "        vertical-align: top;\n",
       "    }\n",
       "\n",
       "    .dataframe thead th {\n",
       "        text-align: right;\n",
       "    }\n",
       "</style>\n",
       "<table border=\"1\" class=\"dataframe\">\n",
       "  <thead>\n",
       "    <tr style=\"text-align: right;\">\n",
       "      <th></th>\n",
       "      <th>ord</th>\n",
       "      <th>information</th>\n",
       "    </tr>\n",
       "  </thead>\n",
       "  <tbody>\n",
       "    <tr>\n",
       "      <th>96</th>\n",
       "      <td>seret</td>\n",
       "      <td>7.011466</td>\n",
       "    </tr>\n",
       "    <tr>\n",
       "      <th>56</th>\n",
       "      <td>skeet</td>\n",
       "      <td>6.113415</td>\n",
       "    </tr>\n",
       "    <tr>\n",
       "      <th>50</th>\n",
       "      <td>beter</td>\n",
       "      <td>6.021064</td>\n",
       "    </tr>\n",
       "    <tr>\n",
       "      <th>92</th>\n",
       "      <td>tilse</td>\n",
       "      <td>5.696584</td>\n",
       "    </tr>\n",
       "    <tr>\n",
       "      <th>24</th>\n",
       "      <td>samer</td>\n",
       "      <td>5.684311</td>\n",
       "    </tr>\n",
       "    <tr>\n",
       "      <th>...</th>\n",
       "      <td>...</td>\n",
       "      <td>...</td>\n",
       "    </tr>\n",
       "    <tr>\n",
       "      <th>14</th>\n",
       "      <td>opgiv</td>\n",
       "      <td>3.577537</td>\n",
       "    </tr>\n",
       "    <tr>\n",
       "      <th>75</th>\n",
       "      <td>opråb</td>\n",
       "      <td>3.529832</td>\n",
       "    </tr>\n",
       "    <tr>\n",
       "      <th>0</th>\n",
       "      <td>påbid</td>\n",
       "      <td>3.350558</td>\n",
       "    </tr>\n",
       "    <tr>\n",
       "      <th>79</th>\n",
       "      <td>omhug</td>\n",
       "      <td>3.269102</td>\n",
       "    </tr>\n",
       "    <tr>\n",
       "      <th>57</th>\n",
       "      <td>ombyg</td>\n",
       "      <td>3.224305</td>\n",
       "    </tr>\n",
       "  </tbody>\n",
       "</table>\n",
       "<p>100 rows × 2 columns</p>\n",
       "</div>"
      ],
      "text/plain": [
       "      ord  information\n",
       "96  seret     7.011466\n",
       "56  skeet     6.113415\n",
       "50  beter     6.021064\n",
       "92  tilse     5.696584\n",
       "24  samer     5.684311\n",
       "..    ...          ...\n",
       "14  opgiv     3.577537\n",
       "75  opråb     3.529832\n",
       "0   påbid     3.350558\n",
       "79  omhug     3.269102\n",
       "57  ombyg     3.224305\n",
       "\n",
       "[100 rows x 2 columns]"
      ]
     },
     "execution_count": 188,
     "metadata": {},
     "output_type": "execute_result"
    }
   ],
   "source": [
    "df = pd.DataFrame()\n",
    "df['ord'] = list(all_words)[:100]\n",
    "df['information'] = informations\n",
    "df.sort_values(by = 'information', ascending = False)"
   ]
  },
  {
   "cell_type": "code",
   "execution_count": 182,
   "metadata": {},
   "outputs": [
    {
     "data": {
      "text/plain": [
       "6.113414650810543"
      ]
     },
     "execution_count": 182,
     "metadata": {},
     "output_type": "execute_result"
    }
   ],
   "source": [
    "get_information(all_words,'skeet')"
   ]
  },
  {
   "cell_type": "code",
   "execution_count": 137,
   "metadata": {},
   "outputs": [
    {
     "name": "stdout",
     "output_type": "stream",
     "text": [
      "11729\n",
      "645\n",
      "173\n",
      "34\n",
      "14\n",
      "6\n"
     ]
    },
    {
     "data": {
      "text/plain": [
       "['sykke', 'skøje', 'sekse', 'skeje', 'søkke', 'sejse']"
      ]
     },
     "execution_count": 137,
     "metadata": {},
     "output_type": "execute_result"
    }
   ],
   "source": [
    "print(len(all_words))\n",
    "words = update_words(all_words, 'bores',[0,0,0,1,1])\n",
    "print(len(words))\n",
    "words = update_words(words, 'liste',[0,0,1,0,2])\n",
    "print(len(words))\n",
    "words = update_words(words, 'snude',[2,0,0,0,2])\n",
    "print(len(words))\n",
    "words = update_words(words, 'smage',[2,0,0,0,2])\n",
    "print(len(words))\n",
    "words = update_words(words, 'svæve',[2,0,0,0,2])\n",
    "print(len(words))\n",
    "words"
   ]
  },
  {
   "cell_type": "code",
   "execution_count": 132,
   "metadata": {},
   "outputs": [
    {
     "data": {
      "text/plain": [
       "['skeje']"
      ]
     },
     "execution_count": 132,
     "metadata": {},
     "output_type": "execute_result"
    }
   ],
   "source": [
    "[w for w in all_words if 'skeje' in w]"
   ]
  },
  {
   "cell_type": "code",
   "execution_count": null,
   "metadata": {},
   "outputs": [],
   "source": []
  }
 ],
 "metadata": {
  "interpreter": {
   "hash": "a8ea5f937f80efed7ff5ed8d01bbcc79941a53246aa7ac79a00fda1adb31a99c"
  },
  "kernelspec": {
   "display_name": "Python 3.7.4 ('base')",
   "language": "python",
   "name": "python3"
  },
  "language_info": {
   "codemirror_mode": {
    "name": "ipython",
    "version": 3
   },
   "file_extension": ".py",
   "mimetype": "text/x-python",
   "name": "python",
   "nbconvert_exporter": "python",
   "pygments_lexer": "ipython3",
   "version": "3.7.4"
  },
  "orig_nbformat": 4
 },
 "nbformat": 4,
 "nbformat_minor": 2
}
