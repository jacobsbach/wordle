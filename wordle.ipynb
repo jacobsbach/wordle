{
 "cells": [
  {
   "cell_type": "code",
   "execution_count": 297,
   "metadata": {},
   "outputs": [],
   "source": [
    "import numpy as np\n",
    "import pandas as pd\n",
    "import itertools\n",
    "import pickle\n",
    "import datetime\n",
    "\n",
    "%matplotlib inline"
   ]
  },
  {
   "cell_type": "code",
   "execution_count": 220,
   "metadata": {},
   "outputs": [],
   "source": [
    "%run get_words"
   ]
  },
  {
   "cell_type": "code",
   "execution_count": 221,
   "metadata": {},
   "outputs": [],
   "source": [
    "with open('five_letter_words.pkl', 'rb') as handle:\n",
    "    all_words = pickle.load(handle)"
   ]
  },
  {
   "cell_type": "code",
   "execution_count": 354,
   "metadata": {},
   "outputs": [],
   "source": [
    "class WordleBrain():\n",
    "    def __init__(self, words):\n",
    "        self._assert_words(words)\n",
    "\n",
    "        self.words = words\n",
    "        self._let2num, self._num2let = self._get_letter_map()\n",
    "        self.X = self._words2mat(self.words)\n",
    "        self.nb_guesses = 0\n",
    "        \n",
    "    def _get_letter_map(self):\n",
    "        letters = sorted(list(set(\"\".join(self.words))))\n",
    "        let2num = {l:n for n,l in enumerate(letters)}\n",
    "        num2let = {n:l for l,n in let2num.items()}\n",
    "        return let2num, num2let\n",
    "\n",
    "    def _assert_words(self, words):\n",
    "        # Assert length = 5\n",
    "        assert all([len(w) == 5 for w in words]), \"All words must have length 5\"\n",
    "\n",
    "        # Assert case\n",
    "        assert all([w.lower() == w for w in words]), \"All words must be lower case\"\n",
    "\n",
    "        # Assert used letters\n",
    "        only_allowed = \"abcdefghijklmnopqrstuvxyzæøå\"\n",
    "        used = set(\"\".join(words))\n",
    "        assert all([u in only_allowed for u in used]), \"Only allowed letters are {only_allowed}\"\n",
    "\n",
    "    def _word2vec(self, word):\n",
    "            return np.array([self._let2num[l] for l in word]).astype('int8')\n",
    "    \n",
    "    def _vec2word(self, vec):\n",
    "        return \"\".join([self._num2let[n] for n in vec])\n",
    "    \n",
    "    def _words2mat(self, words):\n",
    "        return np.array([self._word2vec(w) for w in words]).astype('int8')\n",
    "    \n",
    "    def _mat2words(self,mat):\n",
    "        return [self._vec2word(vec) for vec in mat]\n",
    "    \n",
    "    def reduce_vecs(self, X, guess, response):\n",
    "        assert len(guess) == 5, \"Guess must have length 5\"\n",
    "        assert len(response) == 5, \"Response must hav length 5\"\n",
    "        assert all([r in [0,1,2] for r in response]), \"Response must be either 0 (gray), 1 (orange), 2 (green)\"\n",
    "        guess = list(guess)\n",
    "\n",
    "        double_response = [r for g,r in zip(guess, response) if guess.count(g) > 1]\n",
    "        doubles_all_gray = all([r == 0 for r in double_response])\n",
    "        doubles_all_green = all([r == 2 for r in double_response])\n",
    "        safely_ignore_doubles = doubles_all_gray or doubles_all_green\n",
    "        \n",
    "        \n",
    "        mask = np.array([True]*len(X))\n",
    "        if safely_ignore_doubles:\n",
    "            green_idx  = [idx for idx,r in enumerate(response) if r == 2]\n",
    "            orange_idx = [idx for idx,r in enumerate(response) if r == 1]\n",
    "            gray_idx   = [idx for idx,r in enumerate(response) if r == 0]\n",
    "            green_guesses = np.array(guess)[green_idx]\n",
    "            orange_guesses = np.array(guess)[orange_idx]\n",
    "            gray_guesses = np.array(guess)[gray_idx]\n",
    "            \n",
    "            # Green: all letters must be in correct position\n",
    "            mask &= np.all(X[:,green_idx] == green_guesses, axis = 1)\n",
    "            \n",
    "            # Orange: Word must contain all orange letters, but not in the guessed positions\n",
    "            contains_all_orange = np.sum(np.isin(X,orange_guesses), axis = 1) == len(orange_guesses)\n",
    "            letters_not_at_orange = np.all(X[:,orange_idx] != orange_guesses, axis = 1)\n",
    "            mask &= contains_all_orange & letters_not_at_orange\n",
    "            \n",
    "            # Gray: Word must not contain letters\n",
    "            contains_any_gray = np.any(np.isin(X, gray_guesses), axis = 1)\n",
    "            mask &= ~contains_any_gray\n",
    "            \n",
    "        else: # Be aware that some letters may occure twice. \n",
    "            # The below code would also apply for no double letters\n",
    "            # Iterate over each guess letter g and response r, from left to right\n",
    "            colored_letters = []\n",
    "            for idx, (g,r) in enumerate(zip(guess,response)):\n",
    "                if r == 2: # Green: Correct letter and position\n",
    "                    colored_letters.append(g)\n",
    "                    mask &= X[:,idx] == g\n",
    "                else: # If orange or gray\n",
    "                    # Letter should not be in this position\n",
    "                    mask &= X[:,idx] != g \n",
    "                    if r == 1: # Orange: Correct letter but wrong position\n",
    "                        colored_letters.append(g)\n",
    "                        if g in colored_letters:\n",
    "                            # The letter must occure at least as many times as it is collered\n",
    "                            mask &= np.sum(X == g, axis = 1) >= colored_letters.count(g)\n",
    "                        else:\n",
    "                            # Letter must be in word at least once\n",
    "                            mask &= np.any(X == g, axis = 1)\n",
    "                    elif r == 0: # Gray: Wrong letter\n",
    "                        if g in colored_letters:\n",
    "                            # The letter must occure exactly as many times as it is collered\n",
    "                            mask &= np.sum(X == g, axis = 1) == colored_letters.count(g)\n",
    "                        else:\n",
    "                            # The letter cannot be in the word\n",
    "                            mask &= ~np.any(X == g, axis = 1)\n",
    "                            \n",
    "        return X[mask]\n",
    "    \n",
    "    def get_information(self, X, guess):\n",
    "        nb_all_words = len(X)\n",
    "        information = 0\n",
    "        # For all patterns\n",
    "        for response in itertools.product(*[[0,1,2] for _ in range(5)]):\n",
    "            nb_reduced = len(self.reduce_vecs(X, guess, response))\n",
    "            prob = nb_reduced / nb_all_words\n",
    "            information += - prob * np.log2(prob) if prob != 0 else 0\n",
    "\n",
    "        return information\n",
    "    \n",
    "    def get_all_informations(self, X, save_name = None):\n",
    "        nb_words = len(X)\n",
    "        informations = np.zeros(nb_words).astype('float')\n",
    "        for idx, guess in enumerate(X):\n",
    "            informations[idx] = self.get_information(X,guess)\n",
    "            if save_name:\n",
    "                print(f\"Processed {self._vec2word(guess)} ({idx+1:>5} of {nb_words}): Expected {informations[idx]:.3f} bits of information\")\n",
    "        \n",
    "        df = pd.DataFrame()\n",
    "        df['word'] = self._mat2words(X)\n",
    "        df['expected_information'] = informations\n",
    "        df['expected_nb_words'] = [nb_words*(1/2)**info for info in informations]\n",
    "        \n",
    "        df = df.sort_values(by = 'expected_information', ascending = False)\n",
    "        \n",
    "        if save_name:\n",
    "            timestamp = str(datetime.datetime.today()).split('.')[0].replace('-','_').replace(':','_').replace(' ','_')\n",
    "            df.to_csv(f\"{save_name}_{timestamp}.csv\")\n",
    "        else:\n",
    "            return df\n",
    "        \n",
    "    def register_guess(self, guess, response, verbose = False):\n",
    "        self.nb_guesses += 1\n",
    "        guess_word = guess\n",
    "        guess = list(self._word2vec(guess))\n",
    "        response = list(response)\n",
    "        expected_information = self.get_information(self.X, guess)\n",
    "        old_nb_words = len(self.X)\n",
    "        self.X = self.reduce_vecs(self.X, guess, response)\n",
    "        new_nb_words = len(self.X)\n",
    "        prob = new_nb_words / old_nb_words\n",
    "        realized_information = -np.log2(prob)\n",
    "        expected_nb_words = old_nb_words*(1/2)**expected_information\n",
    "    \n",
    "        if verbose:\n",
    "            print(f\"You guessed '{guess_word}'.\")\n",
    "            print(f\"Expected information: {expected_information:.3f} bits (leading to {expected_nb_words:.1f} words)\")\n",
    "            print(f\"Realized information: {realized_information:.3f} bits (leading to {new_nb_words} words)\")\n",
    "            print('\\n')\n",
    "    \n",
    "    def test_guess(self, guess):\n",
    "        expected_information = self.get_information(self.X, self._word2vec(guess))\n",
    "        expected_nb_words = len(self.X)*(1/2)**expected_information\n",
    "        print(f\"Guessing on {guess} is expected to give {expected_information:.3f} bits of information (leading to {expected_nb_words:.1f} words)\")\n",
    "        \n",
    "    def status(self, show_best_nb = 0):\n",
    "        wait_message = f\"Waiting for guess {self.nb_guesses + 1}...\"\n",
    "        nb_words_message = f\"There are {len(self.X)} words to choose from.\"\n",
    "        best_words_message = f\"Here are the top {show_best_nb} best words to choose next:\"\n",
    "        \n",
    "        if self.nb_guesses == 0:\n",
    "            print(wait_message)\n",
    "            print(nb_words_message)\n",
    "            if show_best_nb > 0:\n",
    "                print(\"The best words among all words takes long to calculate. Please see stored file.\")\n",
    "        elif self.nb_guesses < 5:\n",
    "            print(wait_message)\n",
    "            print(nb_words_message)\n",
    "            if show_best_nb > 0:\n",
    "                df = self.get_all_informations(self.X)\n",
    "                print(best_words_message)\n",
    "                print(df.head(show_best_nb))\n",
    "        else:\n",
    "            print(\"No more guesses\")\n",
    "                \n",
    "        print('\\n')\n",
    "    "
   ]
  },
  {
   "cell_type": "code",
   "execution_count": 355,
   "metadata": {},
   "outputs": [
    {
     "name": "stdout",
     "output_type": "stream",
     "text": [
      "Processed abbed (    1 of 11757): Expected 4.198 bits of information\n",
      "Processed abcen (    2 of 11757): Expected 4.871 bits of information\n",
      "Processed abcte (    3 of 11757): Expected 5.030 bits of information\n",
      "Processed abcts (    4 of 11757): Expected 4.740 bits of information\n",
      "Processed abede (    5 of 11757): Expected 4.422 bits of information\n",
      "Processed abels (    6 of 11757): Expected 5.976 bits of information\n",
      "Processed abens (    7 of 11757): Expected 5.972 bits of information\n",
      "Processed aberi (    8 of 11757): Expected 5.443 bits of information\n",
      "Processed abers (    9 of 11757): Expected 6.197 bits of information\n",
      "Processed abild (   10 of 11757): Expected 4.664 bits of information\n",
      "Processed abort (   11 of 11757): Expected 5.377 bits of information\n",
      "Processed abrod (   12 of 11757): Expected 4.910 bits of information\n",
      "Processed achts (   13 of 11757): Expected 4.524 bits of information\n",
      "Processed adder (   14 of 11757): Expected 4.860 bits of information\n",
      "Processed adels (   15 of 11757): Expected 6.272 bits of information\n",
      "Processed adhus (   16 of 11757): Expected 4.735 bits of information\n",
      "Processed adjøs (   17 of 11757): Expected 4.584 bits of information\n",
      "Processed adkom (   18 of 11757): Expected 4.474 bits of information\n",
      "Processed adled (   19 of 11757): Expected 4.769 bits of information\n",
      "Processed adler (   20 of 11757): Expected 6.346 bits of information\n",
      "Processed adles (   21 of 11757): Expected 6.599 bits of information\n",
      "Processed adlet (   22 of 11757): Expected 6.412 bits of information\n",
      "Processed adlyd (   23 of 11757): Expected 3.610 bits of information\n",
      "Processed adlød (   24 of 11757): Expected 3.721 bits of information\n",
      "Processed adræt (   25 of 11757): Expected 5.389 bits of information\n",
      "Processed advar (   26 of 11757): Expected 4.023 bits of information\n",
      "Processed advis (   27 of 11757): Expected 5.150 bits of information\n",
      "Processed aende (   28 of 11757): Expected 4.914 bits of information\n",
      "Processed afart (   29 of 11757): Expected 4.112 bits of information\n",
      "Processed afbad (   30 of 11757): Expected 3.181 bits of information\n",
      "Processed afbag (   31 of 11757): Expected 3.055 bits of information\n",
      "Processed afbar (   32 of 11757): Expected 3.544 bits of information\n",
      "Processed afbed (   33 of 11757): Expected 5.183 bits of information\n",
      "Processed afbid (   34 of 11757): Expected 4.047 bits of information\n",
      "Processed afbie (   35 of 11757): Expected 4.941 bits of information\n",
      "Processed afbom (   36 of 11757): Expected 3.700 bits of information\n",
      "Processed afbon (   37 of 11757): Expected 4.145 bits of information\n",
      "Processed afbor (   38 of 11757): Expected 4.371 bits of information\n",
      "Processed afbov (   39 of 11757): Expected 3.653 bits of information\n",
      "Processed afbud (   40 of 11757): Expected 3.945 bits of information\n",
      "Processed afbyt (   41 of 11757): Expected 4.054 bits of information\n",
      "Processed afbær (   42 of 11757): Expected 4.111 bits of information\n",
      "Processed afbød (   43 of 11757): Expected 3.773 bits of information\n",
      "Processed afbøj (   44 of 11757): Expected 3.083 bits of information\n",
      "Processed afbøn (   45 of 11757): Expected 3.901 bits of information\n",
      "Processed afdal (   46 of 11757): Expected 3.624 bits of information\n",
      "Processed afdel (   47 of 11757): Expected 5.628 bits of information\n",
      "Processed afdug (   48 of 11757): Expected 4.179 bits of information\n",
      "Processed afdæk (   49 of 11757): Expected 4.120 bits of information\n",
      "Processed afdæm (   50 of 11757): Expected 3.833 bits of information\n",
      "Processed afdød (   51 of 11757): Expected 3.113 bits of information\n",
      "Processed afdør (   52 of 11757): Expected 4.510 bits of information\n",
      "Processed afdøs (   53 of 11757): Expected 4.728 bits of information\n",
      "Processed affad (   54 of 11757): Expected 2.530 bits of information\n",
      "Processed affar (   55 of 11757): Expected 2.901 bits of information\n",
      "Processed affas (   56 of 11757): Expected 3.046 bits of information\n",
      "Processed affat (   57 of 11757): Expected 2.786 bits of information\n",
      "Processed affed (   58 of 11757): Expected 4.032 bits of information\n",
      "Processed affej (   59 of 11757): Expected 3.547 bits of information\n",
      "Processed affil (   60 of 11757): Expected 3.343 bits of information\n",
      "Processed affir (   61 of 11757): Expected 3.586 bits of information\n",
      "Processed afflå (   62 of 11757): Expected 2.957 bits of information\n",
      "Processed affur (   63 of 11757): Expected 3.513 bits of information\n",
      "Processed affut (   64 of 11757): Expected 3.444 bits of information\n",
      "Processed affyr (   65 of 11757): Expected 3.230 bits of information\n",
      "Processed affød (   66 of 11757): Expected 2.975 bits of information\n",
      "Processed affør (   67 of 11757): Expected 3.332 bits of information\n",
      "Processed afgav (   68 of 11757): Expected 3.066 bits of information\n",
      "Processed afgik (   69 of 11757): Expected 4.232 bits of information\n",
      "Processed afgiv (   70 of 11757): Expected 3.881 bits of information\n",
      "Processed afgud (   71 of 11757): Expected 4.150 bits of information\n",
      "Processed afgår (   72 of 11757): Expected 4.193 bits of information\n",
      "Processed afgås (   73 of 11757): Expected 4.417 bits of information\n",
      "Processed afgær (   74 of 11757): Expected 4.316 bits of information\n",
      "Processed afgør (   75 of 11757): Expected 4.335 bits of information\n",
      "Processed afhas (   76 of 11757): Expected 3.474 bits of information\n",
      "Processed afhud (   77 of 11757): Expected 3.687 bits of information\n",
      "Processed afhug (   78 of 11757): Expected 3.558 bits of information\n",
      "Processed afhyl (   79 of 11757): Expected 3.538 bits of information\n",
      "Processed afhår (   80 of 11757): Expected 3.739 bits of information\n",
      "Processed afhæv (   81 of 11757): Expected 3.126 bits of information\n",
      "Processed afhør (   82 of 11757): Expected 3.877 bits of information\n",
      "Processed afilt (   83 of 11757): Expected 4.908 bits of information\n",
      "Processed afjag (   84 of 11757): Expected 2.794 bits of information\n",
      "Processed afkap (   85 of 11757): Expected 3.062 bits of information\n",
      "Processed afkil (   86 of 11757): Expected 4.452 bits of information\n",
      "Processed afkim (   87 of 11757): Expected 4.032 bits of information\n",
      "Processed afkog (   88 of 11757): Expected 4.159 bits of information\n",
      "Processed afkom (   89 of 11757): Expected 3.988 bits of information\n",
      "Processed afkop (   90 of 11757): Expected 3.965 bits of information\n",
      "Processed afkul (   91 of 11757): Expected 4.358 bits of information\n",
      "Processed afkys (   92 of 11757): Expected 4.516 bits of information\n",
      "Processed afkæm (   93 of 11757): Expected 3.744 bits of information\n",
      "Processed afkøb (   94 of 11757): Expected 3.668 bits of information\n",
      "Processed afkød (   95 of 11757): Expected 4.057 bits of information\n",
      "Processed afkøl (   96 of 11757): Expected 4.190 bits of information\n",
      "Processed afkør (   97 of 11757): Expected 4.409 bits of information\n",
      "Processed aflad (   98 of 11757): Expected 3.656 bits of information\n",
      "Processed afled (   99 of 11757): Expected 5.648 bits of information\n",
      "Processed afler (  100 of 11757): Expected 5.914 bits of information\n",
      "Processed afles (  101 of 11757): Expected 6.181 bits of information\n",
      "Processed aflet (  102 of 11757): Expected 5.981 bits of information\n",
      "Processed aflid (  103 of 11757): Expected 4.531 bits of information\n",
      "Processed aflim (  104 of 11757): Expected 4.225 bits of information\n",
      "Processed aflin (  105 of 11757): Expected 4.637 bits of information\n",
      "Processed aflir (  106 of 11757): Expected 4.848 bits of information\n",
      "Processed afliv (  107 of 11757): Expected 4.162 bits of information\n",
      "Processed aflod (  108 of 11757): Expected 4.504 bits of information\n",
      "Processed aflok (  109 of 11757): Expected 4.489 bits of information\n",
      "Processed aflos (  110 of 11757): Expected 5.073 bits of information\n",
      "Processed aflug (  111 of 11757): Expected 4.297 bits of information\n",
      "Processed afluk (  112 of 11757): Expected 4.426 bits of information\n",
      "Processed aflur (  113 of 11757): Expected 4.760 bits of information\n",
      "Processed aflus (  114 of 11757): Expected 5.010 bits of information\n",
      "Processed aflyd (  115 of 11757): Expected 4.147 bits of information\n"
     ]
    },
    {
     "ename": "KeyboardInterrupt",
     "evalue": "",
     "output_type": "error",
     "traceback": [
      "\u001b[0;31m---------------------------------------------------------------------------\u001b[0m",
      "\u001b[0;31mKeyboardInterrupt\u001b[0m                         Traceback (most recent call last)",
      "\u001b[0;32m<ipython-input-355-ac836031f9d2>\u001b[0m in \u001b[0;36m<module>\u001b[0;34m\u001b[0m\n\u001b[1;32m      1\u001b[0m \u001b[0mwb\u001b[0m \u001b[0;34m=\u001b[0m \u001b[0mWordleBrain\u001b[0m\u001b[0;34m(\u001b[0m\u001b[0mall_words\u001b[0m\u001b[0;34m)\u001b[0m\u001b[0;34m\u001b[0m\u001b[0;34m\u001b[0m\u001b[0m\n\u001b[0;32m----> 2\u001b[0;31m \u001b[0mwb\u001b[0m\u001b[0;34m.\u001b[0m\u001b[0mget_all_informations\u001b[0m\u001b[0;34m(\u001b[0m\u001b[0mwb\u001b[0m\u001b[0;34m.\u001b[0m\u001b[0mX\u001b[0m\u001b[0;34m,\u001b[0m \u001b[0msave_name\u001b[0m \u001b[0;34m=\u001b[0m \u001b[0;34m'word_informations'\u001b[0m\u001b[0;34m)\u001b[0m\u001b[0;34m\u001b[0m\u001b[0;34m\u001b[0m\u001b[0m\n\u001b[0m",
      "\u001b[0;32m<ipython-input-354-6617d7baf0a0>\u001b[0m in \u001b[0;36mget_all_informations\u001b[0;34m(self, X, save_name)\u001b[0m\n\u001b[1;32m    115\u001b[0m         \u001b[0minformations\u001b[0m \u001b[0;34m=\u001b[0m \u001b[0mnp\u001b[0m\u001b[0;34m.\u001b[0m\u001b[0mzeros\u001b[0m\u001b[0;34m(\u001b[0m\u001b[0mnb_words\u001b[0m\u001b[0;34m)\u001b[0m\u001b[0;34m.\u001b[0m\u001b[0mastype\u001b[0m\u001b[0;34m(\u001b[0m\u001b[0;34m'float'\u001b[0m\u001b[0;34m)\u001b[0m\u001b[0;34m\u001b[0m\u001b[0;34m\u001b[0m\u001b[0m\n\u001b[1;32m    116\u001b[0m         \u001b[0;32mfor\u001b[0m \u001b[0midx\u001b[0m\u001b[0;34m,\u001b[0m \u001b[0mguess\u001b[0m \u001b[0;32min\u001b[0m \u001b[0menumerate\u001b[0m\u001b[0;34m(\u001b[0m\u001b[0mX\u001b[0m\u001b[0;34m)\u001b[0m\u001b[0;34m:\u001b[0m\u001b[0;34m\u001b[0m\u001b[0;34m\u001b[0m\u001b[0m\n\u001b[0;32m--> 117\u001b[0;31m             \u001b[0minformations\u001b[0m\u001b[0;34m[\u001b[0m\u001b[0midx\u001b[0m\u001b[0;34m]\u001b[0m \u001b[0;34m=\u001b[0m \u001b[0mself\u001b[0m\u001b[0;34m.\u001b[0m\u001b[0mget_information\u001b[0m\u001b[0;34m(\u001b[0m\u001b[0mX\u001b[0m\u001b[0;34m,\u001b[0m\u001b[0mguess\u001b[0m\u001b[0;34m)\u001b[0m\u001b[0;34m\u001b[0m\u001b[0;34m\u001b[0m\u001b[0m\n\u001b[0m\u001b[1;32m    118\u001b[0m             \u001b[0;32mif\u001b[0m \u001b[0msave_name\u001b[0m\u001b[0;34m:\u001b[0m\u001b[0;34m\u001b[0m\u001b[0;34m\u001b[0m\u001b[0m\n\u001b[1;32m    119\u001b[0m                 \u001b[0mprint\u001b[0m\u001b[0;34m(\u001b[0m\u001b[0;34mf\"Processed {self._vec2word(guess)} ({idx+1:>5} of {nb_words}): Expected {informations[idx]:.3f} bits of information\"\u001b[0m\u001b[0;34m)\u001b[0m\u001b[0;34m\u001b[0m\u001b[0;34m\u001b[0m\u001b[0m\n",
      "\u001b[0;32m<ipython-input-354-6617d7baf0a0>\u001b[0m in \u001b[0;36mget_information\u001b[0;34m(self, X, guess)\u001b[0m\n\u001b[1;32m    105\u001b[0m         \u001b[0;31m# For all patterns\u001b[0m\u001b[0;34m\u001b[0m\u001b[0;34m\u001b[0m\u001b[0;34m\u001b[0m\u001b[0m\n\u001b[1;32m    106\u001b[0m         \u001b[0;32mfor\u001b[0m \u001b[0mresponse\u001b[0m \u001b[0;32min\u001b[0m \u001b[0mitertools\u001b[0m\u001b[0;34m.\u001b[0m\u001b[0mproduct\u001b[0m\u001b[0;34m(\u001b[0m\u001b[0;34m*\u001b[0m\u001b[0;34m[\u001b[0m\u001b[0;34m[\u001b[0m\u001b[0;36m0\u001b[0m\u001b[0;34m,\u001b[0m\u001b[0;36m1\u001b[0m\u001b[0;34m,\u001b[0m\u001b[0;36m2\u001b[0m\u001b[0;34m]\u001b[0m \u001b[0;32mfor\u001b[0m \u001b[0m_\u001b[0m \u001b[0;32min\u001b[0m \u001b[0mrange\u001b[0m\u001b[0;34m(\u001b[0m\u001b[0;36m5\u001b[0m\u001b[0;34m)\u001b[0m\u001b[0;34m]\u001b[0m\u001b[0;34m)\u001b[0m\u001b[0;34m:\u001b[0m\u001b[0;34m\u001b[0m\u001b[0;34m\u001b[0m\u001b[0m\n\u001b[0;32m--> 107\u001b[0;31m             \u001b[0mnb_reduced\u001b[0m \u001b[0;34m=\u001b[0m \u001b[0mlen\u001b[0m\u001b[0;34m(\u001b[0m\u001b[0mself\u001b[0m\u001b[0;34m.\u001b[0m\u001b[0mreduce_vecs\u001b[0m\u001b[0;34m(\u001b[0m\u001b[0mX\u001b[0m\u001b[0;34m,\u001b[0m \u001b[0mguess\u001b[0m\u001b[0;34m,\u001b[0m \u001b[0mresponse\u001b[0m\u001b[0;34m)\u001b[0m\u001b[0;34m)\u001b[0m\u001b[0;34m\u001b[0m\u001b[0;34m\u001b[0m\u001b[0m\n\u001b[0m\u001b[1;32m    108\u001b[0m             \u001b[0mprob\u001b[0m \u001b[0;34m=\u001b[0m \u001b[0mnb_reduced\u001b[0m \u001b[0;34m/\u001b[0m \u001b[0mnb_all_words\u001b[0m\u001b[0;34m\u001b[0m\u001b[0;34m\u001b[0m\u001b[0m\n\u001b[1;32m    109\u001b[0m             \u001b[0minformation\u001b[0m \u001b[0;34m+=\u001b[0m \u001b[0;34m-\u001b[0m \u001b[0mprob\u001b[0m \u001b[0;34m*\u001b[0m \u001b[0mnp\u001b[0m\u001b[0;34m.\u001b[0m\u001b[0mlog2\u001b[0m\u001b[0;34m(\u001b[0m\u001b[0mprob\u001b[0m\u001b[0;34m)\u001b[0m \u001b[0;32mif\u001b[0m \u001b[0mprob\u001b[0m \u001b[0;34m!=\u001b[0m \u001b[0;36m0\u001b[0m \u001b[0;32melse\u001b[0m \u001b[0;36m0\u001b[0m\u001b[0;34m\u001b[0m\u001b[0;34m\u001b[0m\u001b[0m\n",
      "\u001b[0;32m<ipython-input-354-6617d7baf0a0>\u001b[0m in \u001b[0;36mreduce_vecs\u001b[0;34m(self, X, guess, response)\u001b[0m\n\u001b[1;32m     50\u001b[0m \u001b[0;34m\u001b[0m\u001b[0m\n\u001b[1;32m     51\u001b[0m \u001b[0;34m\u001b[0m\u001b[0m\n\u001b[0;32m---> 52\u001b[0;31m         \u001b[0mmask\u001b[0m \u001b[0;34m=\u001b[0m \u001b[0mnp\u001b[0m\u001b[0;34m.\u001b[0m\u001b[0marray\u001b[0m\u001b[0;34m(\u001b[0m\u001b[0;34m[\u001b[0m\u001b[0;32mTrue\u001b[0m\u001b[0;34m]\u001b[0m\u001b[0;34m*\u001b[0m\u001b[0mlen\u001b[0m\u001b[0;34m(\u001b[0m\u001b[0mX\u001b[0m\u001b[0;34m)\u001b[0m\u001b[0;34m)\u001b[0m\u001b[0;34m\u001b[0m\u001b[0;34m\u001b[0m\u001b[0m\n\u001b[0m\u001b[1;32m     53\u001b[0m         \u001b[0;32mif\u001b[0m \u001b[0msafely_ignore_doubles\u001b[0m\u001b[0;34m:\u001b[0m\u001b[0;34m\u001b[0m\u001b[0;34m\u001b[0m\u001b[0m\n\u001b[1;32m     54\u001b[0m             \u001b[0mgreen_idx\u001b[0m  \u001b[0;34m=\u001b[0m \u001b[0;34m[\u001b[0m\u001b[0midx\u001b[0m \u001b[0;32mfor\u001b[0m \u001b[0midx\u001b[0m\u001b[0;34m,\u001b[0m\u001b[0mr\u001b[0m \u001b[0;32min\u001b[0m \u001b[0menumerate\u001b[0m\u001b[0;34m(\u001b[0m\u001b[0mresponse\u001b[0m\u001b[0;34m)\u001b[0m \u001b[0;32mif\u001b[0m \u001b[0mr\u001b[0m \u001b[0;34m==\u001b[0m \u001b[0;36m2\u001b[0m\u001b[0;34m]\u001b[0m\u001b[0;34m\u001b[0m\u001b[0;34m\u001b[0m\u001b[0m\n",
      "\u001b[0;31mKeyboardInterrupt\u001b[0m: "
     ]
    }
   ],
   "source": [
    "wb = WordleBrain(all_words)\n",
    "wb.get_all_informations(wb.X, save_name = 'word_informations')"
   ]
  },
  {
   "cell_type": "code",
   "execution_count": 339,
   "metadata": {},
   "outputs": [
    {
     "name": "stdout",
     "output_type": "stream",
     "text": [
      "You guessed 'sarte'.\n",
      "Expected information: 7.096 bits (leading to 85.9 words)\n",
      "Realized information: 7.590 bits (leading to 61 words)\n",
      "\n",
      "\n",
      "Waiting for guess 2...\n",
      "There are 61 words to choose from.\n",
      "61\n",
      "Here are the top 5 best words to choose next:\n",
      "     word  expected_information  expected_nb_words\n",
      "47  træne              3.653921           4.846073\n",
      "34  trine              3.642473           4.884680\n",
      "26  tiøre              3.609474           4.997697\n",
      "36  trone              3.598703           5.035149\n",
      "50  trøge              3.598612           5.035466\n",
      "\n",
      "\n"
     ]
    }
   ],
   "source": [
    "wb.register_guess('sarte', [0,0,1,1,2], verbose = True)\n",
    "wb.status(5)"
   ]
  },
  {
   "cell_type": "code",
   "execution_count": 340,
   "metadata": {},
   "outputs": [
    {
     "name": "stdout",
     "output_type": "stream",
     "text": [
      "You guessed 'træne'.\n",
      "Expected information: 3.654 bits (leading to 4.8 words)\n",
      "Realized information: 1.761 bits (leading to 18 words)\n",
      "\n",
      "\n",
      "Waiting for guess 3...\n",
      "There are 18 words to choose from.\n",
      "18\n",
      "Here are the top 5 best words to choose next:\n",
      "     word  expected_information  expected_nb_words\n",
      "7   litre              3.058814           2.160119\n",
      "4   iltre              3.058814           2.160119\n",
      "8   lutre              2.855954           2.486250\n",
      "14  rulre              2.702904           2.764504\n",
      "6   letre              2.702904           2.764504\n",
      "\n",
      "\n"
     ]
    }
   ],
   "source": [
    "wb.register_guess('træne', [1,1,0,0,2], verbose = True)\n",
    "wb.status(5)"
   ]
  },
  {
   "cell_type": "code",
   "execution_count": 341,
   "metadata": {},
   "outputs": [
    {
     "name": "stdout",
     "output_type": "stream",
     "text": [
      "Waiting for guess 3...\n",
      "There are 18 words to choose from.\n",
      "18\n",
      "Here are the top 20 best words to choose next:\n",
      "     word  expected_information  expected_nb_words\n",
      "7   litre              3.058814           2.160119\n",
      "4   iltre              3.058814           2.160119\n",
      "8   lutre              2.855954           2.486250\n",
      "14  rulre              2.702904           2.764504\n",
      "6   letre              2.702904           2.764504\n",
      "0   bitre              2.599666           2.969580\n",
      "1   citre              2.599666           2.969580\n",
      "17  vitre              2.599666           2.969580\n",
      "3   gitre              2.599666           2.969580\n",
      "13  rudre              2.362740           3.499587\n",
      "11  riere              2.322085           3.599609\n",
      "10  putre              2.102187           4.192288\n",
      "2   døtre              2.060249           4.315944\n",
      "16  uture              1.991076           4.527921\n",
      "5   køtre              1.879965           4.890426\n",
      "9   metre              1.879965           4.890426\n",
      "15  rytme              1.611383           5.891118\n",
      "12  roere              1.386274           6.885927\n",
      "\n",
      "\n"
     ]
    }
   ],
   "source": [
    "wb.status(20)"
   ]
  },
  {
   "cell_type": "code",
   "execution_count": null,
   "metadata": {},
   "outputs": [],
   "source": [
    "wb.register_guess('bores', [1,0,0,0,0], verbose = True)\n",
    "wb.status(5)"
   ]
  },
  {
   "cell_type": "code",
   "execution_count": 272,
   "metadata": {},
   "outputs": [
    {
     "data": {
      "text/plain": [
       "['ammen',\n",
       " 'ammer',\n",
       " 'ammes',\n",
       " 'ammet',\n",
       " 'emmen',\n",
       " 'emmer',\n",
       " 'emmes',\n",
       " 'emmet',\n",
       " 'mamas',\n",
       " 'mamen',\n",
       " 'mamer',\n",
       " 'ommen',\n",
       " 'ommer',\n",
       " 'ommes',\n",
       " 'ømmer',\n",
       " 'ømmes']"
      ]
     },
     "execution_count": 272,
     "metadata": {},
     "output_type": "execute_result"
    }
   ],
   "source": []
  },
  {
   "cell_type": "code",
   "execution_count": 270,
   "metadata": {},
   "outputs": [
    {
     "data": {
      "text/plain": [
       "False"
      ]
     },
     "execution_count": 270,
     "metadata": {},
     "output_type": "execute_result"
    }
   ],
   "source": []
  },
  {
   "cell_type": "code",
   "execution_count": 254,
   "metadata": {},
   "outputs": [
    {
     "data": {
      "text/plain": [
       "True"
      ]
     },
     "execution_count": 254,
     "metadata": {},
     "output_type": "execute_result"
    }
   ],
   "source": [
    "all([])"
   ]
  },
  {
   "cell_type": "code",
   "execution_count": 238,
   "metadata": {},
   "outputs": [
    {
     "data": {
      "text/plain": [
       "['bygde',\n",
       " 'bygds',\n",
       " 'hugde',\n",
       " 'kogde',\n",
       " 'lagde',\n",
       " 'lægde',\n",
       " 'lægds',\n",
       " 'sagde',\n",
       " 'sigde',\n",
       " 'sigds']"
      ]
     },
     "execution_count": 238,
     "metadata": {},
     "output_type": "execute_result"
    }
   ],
   "source": [
    "wb._mat2words(X[np.all(X[:,[2,3]] == np.array(wb._word2vec('sagde'))[[2,3]], axis = 1)])"
   ]
  },
  {
   "cell_type": "code",
   "execution_count": 228,
   "metadata": {},
   "outputs": [
    {
     "data": {
      "text/plain": [
       "['sagde']"
      ]
     },
     "execution_count": 228,
     "metadata": {},
     "output_type": "execute_result"
    }
   ],
   "source": [
    "[x for x in wb._mat2words(X) if 'sagde' in x]"
   ]
  },
  {
   "cell_type": "code",
   "execution_count": 204,
   "metadata": {},
   "outputs": [],
   "source": [
    "data = pd.read_csv(\"ods_fullforms_2020-08-26.csv\",sep='\\t',header = None)"
   ]
  },
  {
   "cell_type": "code",
   "execution_count": 206,
   "metadata": {},
   "outputs": [
    {
     "data": {
      "text/plain": [
       "['lagde', 'sagde']"
      ]
     },
     "execution_count": 206,
     "metadata": {},
     "output_type": "execute_result"
    }
   ],
   "source": [
    "words = list(data[0])\n",
    "map_letters = {\n",
    "        'aa':'å',\n",
    "        'ã':'a',\n",
    "        'ê':'e',\n",
    "        'é':'e'\n",
    "        }\n",
    "for old, new in map_letters.items():\n",
    "    words = [w.replace(old, new) for w in words]\n",
    "    \n",
    "    \n",
    "# 5 letters\n",
    "words = [w for w in words if len(w) == 5]\n",
    "\n",
    "# Remove words with strange symbols\n",
    "only_allowed = \"abcdefghijklmnopqrstuvxyzæøå\"\n",
    "word_allowed = lambda word: all([letter in only_allowed for letter in word])\n",
    "words = [w for w in words if word_allowed(w)]\n",
    "\n",
    "# Drop duplicates\n",
    "words = sorted(list(set(words)))\n",
    "\n",
    "[w for w in words if 'agde' in w]"
   ]
  },
  {
   "cell_type": "code",
   "execution_count": 180,
   "metadata": {},
   "outputs": [
    {
     "data": {
      "text/plain": [
       "array([False, False,  True, ...,  True,  True,  True])"
      ]
     },
     "execution_count": 180,
     "metadata": {},
     "output_type": "execute_result"
    }
   ],
   "source": [
    "~(X[:,3] == 4)"
   ]
  },
  {
   "cell_type": "code",
   "execution_count": 198,
   "metadata": {},
   "outputs": [],
   "source": [
    "def get_information(all_words, guess):\n",
    "    nb_all_words = len(all_words)\n",
    "    probs = []\n",
    "    information = 0\n",
    "    # For all patterns\n",
    "    for idx, response in enumerate(list(itertools.product(*[[0,1,2] for _ in range(5)]))):\n",
    "        nb_reduced = len(update_words(all_words, guess, response))\n",
    "        prob = nb_reduced / nb_all_words\n",
    "        information += - prob * np.log2(prob) if prob != 0 else 0\n",
    "\n",
    "    return information"
   ]
  },
  {
   "cell_type": "code",
   "execution_count": 201,
   "metadata": {},
   "outputs": [
    {
     "name": "stdout",
     "output_type": "stream",
     "text": [
      " "
     ]
    },
    {
     "name": "stdout",
     "output_type": "stream",
     "text": [
      "         2015 function calls in 0.492 seconds\n",
      "\n",
      "   Ordered by: internal time\n",
      "\n",
      "   ncalls  tottime  percall  cumtime  percall filename:lineno(function)\n",
      "      314    0.276    0.001    0.276    0.001 <ipython-input-197-2719664d8c6d>:26(<listcomp>)\n",
      "      314    0.115    0.000    0.115    0.000 <ipython-input-197-2719664d8c6d>:6(<listcomp>)\n",
      "      314    0.089    0.000    0.089    0.000 <ipython-input-197-2719664d8c6d>:15(<listcomp>)\n",
      "      243    0.010    0.000    0.491    0.002 <ipython-input-197-2719664d8c6d>:1(update_words)\n",
      "        1    0.002    0.002    0.492    0.492 <ipython-input-198-b3171ce83484>:1(get_information)\n",
      "      581    0.000    0.000    0.000    0.000 {method 'append' of 'list' objects}\n",
      "      244    0.000    0.000    0.000    0.000 {built-in method builtins.len}\n",
      "        1    0.000    0.000    0.492    0.492 {built-in method builtins.exec}\n",
      "        1    0.000    0.000    0.000    0.000 <ipython-input-198-b3171ce83484>:6(<listcomp>)\n",
      "        1    0.000    0.000    0.492    0.492 <string>:1(<module>)\n",
      "        1    0.000    0.000    0.000    0.000 {method 'disable' of '_lsprof.Profiler' objects}"
     ]
    }
   ],
   "source": [
    "%prun get_information(all_words,'hbupæ')"
   ]
  },
  {
   "cell_type": "code",
   "execution_count": 195,
   "metadata": {},
   "outputs": [
    {
     "ename": "KeyboardInterrupt",
     "evalue": "",
     "output_type": "error",
     "traceback": [
      "\u001b[0;31m---------------------------------------------------------------------------\u001b[0m",
      "\u001b[0;31mKeyboardInterrupt\u001b[0m                         Traceback (most recent call last)",
      "\u001b[0;32m<ipython-input-195-3503a1568bcd>\u001b[0m in \u001b[0;36m<module>\u001b[0;34m\u001b[0m\n\u001b[0;32m----> 1\u001b[0;31m \u001b[0minformations\u001b[0m \u001b[0;34m=\u001b[0m \u001b[0;34m[\u001b[0m\u001b[0mget_information\u001b[0m\u001b[0;34m(\u001b[0m\u001b[0mall_words\u001b[0m\u001b[0;34m,\u001b[0m\u001b[0mguess\u001b[0m\u001b[0;34m)\u001b[0m \u001b[0;32mfor\u001b[0m \u001b[0mguess\u001b[0m \u001b[0;32min\u001b[0m \u001b[0mlist\u001b[0m\u001b[0;34m(\u001b[0m\u001b[0mall_words\u001b[0m\u001b[0;34m)\u001b[0m\u001b[0;34m[\u001b[0m\u001b[0;34m:\u001b[0m\u001b[0;36m100\u001b[0m\u001b[0;34m]\u001b[0m\u001b[0;34m]\u001b[0m\u001b[0;34m\u001b[0m\u001b[0;34m\u001b[0m\u001b[0m\n\u001b[0m",
      "\u001b[0;32m<ipython-input-195-3503a1568bcd>\u001b[0m in \u001b[0;36m<listcomp>\u001b[0;34m(.0)\u001b[0m\n\u001b[0;32m----> 1\u001b[0;31m \u001b[0minformations\u001b[0m \u001b[0;34m=\u001b[0m \u001b[0;34m[\u001b[0m\u001b[0mget_information\u001b[0m\u001b[0;34m(\u001b[0m\u001b[0mall_words\u001b[0m\u001b[0;34m,\u001b[0m\u001b[0mguess\u001b[0m\u001b[0;34m)\u001b[0m \u001b[0;32mfor\u001b[0m \u001b[0mguess\u001b[0m \u001b[0;32min\u001b[0m \u001b[0mlist\u001b[0m\u001b[0;34m(\u001b[0m\u001b[0mall_words\u001b[0m\u001b[0;34m)\u001b[0m\u001b[0;34m[\u001b[0m\u001b[0;34m:\u001b[0m\u001b[0;36m100\u001b[0m\u001b[0;34m]\u001b[0m\u001b[0;34m]\u001b[0m\u001b[0;34m\u001b[0m\u001b[0;34m\u001b[0m\u001b[0m\n\u001b[0m",
      "\u001b[0;32m<ipython-input-193-b3171ce83484>\u001b[0m in \u001b[0;36mget_information\u001b[0;34m(all_words, guess)\u001b[0m\n\u001b[1;32m      5\u001b[0m     \u001b[0;31m# For all patterns\u001b[0m\u001b[0;34m\u001b[0m\u001b[0;34m\u001b[0m\u001b[0;34m\u001b[0m\u001b[0m\n\u001b[1;32m      6\u001b[0m     \u001b[0;32mfor\u001b[0m \u001b[0midx\u001b[0m\u001b[0;34m,\u001b[0m \u001b[0mresponse\u001b[0m \u001b[0;32min\u001b[0m \u001b[0menumerate\u001b[0m\u001b[0;34m(\u001b[0m\u001b[0mlist\u001b[0m\u001b[0;34m(\u001b[0m\u001b[0mitertools\u001b[0m\u001b[0;34m.\u001b[0m\u001b[0mproduct\u001b[0m\u001b[0;34m(\u001b[0m\u001b[0;34m*\u001b[0m\u001b[0;34m[\u001b[0m\u001b[0;34m[\u001b[0m\u001b[0;36m0\u001b[0m\u001b[0;34m,\u001b[0m\u001b[0;36m1\u001b[0m\u001b[0;34m,\u001b[0m\u001b[0;36m2\u001b[0m\u001b[0;34m]\u001b[0m \u001b[0;32mfor\u001b[0m \u001b[0m_\u001b[0m \u001b[0;32min\u001b[0m \u001b[0mrange\u001b[0m\u001b[0;34m(\u001b[0m\u001b[0;36m5\u001b[0m\u001b[0;34m)\u001b[0m\u001b[0;34m]\u001b[0m\u001b[0;34m)\u001b[0m\u001b[0;34m)\u001b[0m\u001b[0;34m)\u001b[0m\u001b[0;34m:\u001b[0m\u001b[0;34m\u001b[0m\u001b[0;34m\u001b[0m\u001b[0m\n\u001b[0;32m----> 7\u001b[0;31m         \u001b[0mnb_reduced\u001b[0m \u001b[0;34m=\u001b[0m \u001b[0mlen\u001b[0m\u001b[0;34m(\u001b[0m\u001b[0mupdate_words\u001b[0m\u001b[0;34m(\u001b[0m\u001b[0mall_words\u001b[0m\u001b[0;34m,\u001b[0m \u001b[0mguess\u001b[0m\u001b[0;34m,\u001b[0m \u001b[0mresponse\u001b[0m\u001b[0;34m)\u001b[0m\u001b[0;34m)\u001b[0m\u001b[0;34m\u001b[0m\u001b[0;34m\u001b[0m\u001b[0m\n\u001b[0m\u001b[1;32m      8\u001b[0m         \u001b[0mprob\u001b[0m \u001b[0;34m=\u001b[0m \u001b[0mnb_reduced\u001b[0m \u001b[0;34m/\u001b[0m \u001b[0mnb_all_words\u001b[0m\u001b[0;34m\u001b[0m\u001b[0;34m\u001b[0m\u001b[0m\n\u001b[1;32m      9\u001b[0m         \u001b[0minformation\u001b[0m \u001b[0;34m+=\u001b[0m \u001b[0;34m-\u001b[0m \u001b[0mprob\u001b[0m \u001b[0;34m*\u001b[0m \u001b[0mnp\u001b[0m\u001b[0;34m.\u001b[0m\u001b[0mlog2\u001b[0m\u001b[0;34m(\u001b[0m\u001b[0mprob\u001b[0m\u001b[0;34m)\u001b[0m \u001b[0;32mif\u001b[0m \u001b[0mprob\u001b[0m \u001b[0;34m!=\u001b[0m \u001b[0;36m0\u001b[0m \u001b[0;32melse\u001b[0m \u001b[0;36m0\u001b[0m\u001b[0;34m\u001b[0m\u001b[0;34m\u001b[0m\u001b[0m\n",
      "\u001b[0;32m<ipython-input-192-e81501a3f17e>\u001b[0m in \u001b[0;36mupdate_words\u001b[0;34m(all_words, guess, response)\u001b[0m\n\u001b[1;32m      4\u001b[0m     \u001b[0;32mfor\u001b[0m \u001b[0midx\u001b[0m\u001b[0;34m,\u001b[0m \u001b[0;34m(\u001b[0m\u001b[0mr\u001b[0m\u001b[0;34m,\u001b[0m\u001b[0ml\u001b[0m\u001b[0;34m)\u001b[0m \u001b[0;32min\u001b[0m \u001b[0menumerate\u001b[0m\u001b[0;34m(\u001b[0m\u001b[0mzip\u001b[0m\u001b[0;34m(\u001b[0m\u001b[0mresponse\u001b[0m\u001b[0;34m,\u001b[0m \u001b[0mguess\u001b[0m\u001b[0;34m)\u001b[0m\u001b[0;34m)\u001b[0m\u001b[0;34m:\u001b[0m\u001b[0;34m\u001b[0m\u001b[0;34m\u001b[0m\u001b[0m\n\u001b[1;32m      5\u001b[0m         \u001b[0;32mif\u001b[0m \u001b[0mr\u001b[0m \u001b[0;34m==\u001b[0m \u001b[0;36m2\u001b[0m\u001b[0;34m:\u001b[0m \u001b[0;31m# Green: Correct letter and position\u001b[0m\u001b[0;34m\u001b[0m\u001b[0;34m\u001b[0m\u001b[0m\n\u001b[0;32m----> 6\u001b[0;31m             \u001b[0mwords\u001b[0m \u001b[0;34m=\u001b[0m \u001b[0;34m[\u001b[0m\u001b[0mw\u001b[0m \u001b[0;32mfor\u001b[0m \u001b[0mw\u001b[0m \u001b[0;32min\u001b[0m \u001b[0mwords\u001b[0m \u001b[0;32mif\u001b[0m \u001b[0mw\u001b[0m\u001b[0;34m[\u001b[0m\u001b[0midx\u001b[0m\u001b[0;34m]\u001b[0m\u001b[0;34m==\u001b[0m\u001b[0ml\u001b[0m\u001b[0;34m]\u001b[0m\u001b[0;34m\u001b[0m\u001b[0;34m\u001b[0m\u001b[0m\n\u001b[0m\u001b[1;32m      7\u001b[0m             \u001b[0mcolor_letters\u001b[0m\u001b[0;34m.\u001b[0m\u001b[0mappend\u001b[0m\u001b[0;34m(\u001b[0m\u001b[0ml\u001b[0m\u001b[0;34m)\u001b[0m\u001b[0;34m\u001b[0m\u001b[0;34m\u001b[0m\u001b[0m\n\u001b[1;32m      8\u001b[0m             \u001b[0;32mif\u001b[0m \u001b[0;32mnot\u001b[0m \u001b[0mwords\u001b[0m\u001b[0;34m:\u001b[0m\u001b[0;34m\u001b[0m\u001b[0;34m\u001b[0m\u001b[0m\n",
      "\u001b[0;32m<ipython-input-192-e81501a3f17e>\u001b[0m in \u001b[0;36m<listcomp>\u001b[0;34m(.0)\u001b[0m\n\u001b[1;32m      4\u001b[0m     \u001b[0;32mfor\u001b[0m \u001b[0midx\u001b[0m\u001b[0;34m,\u001b[0m \u001b[0;34m(\u001b[0m\u001b[0mr\u001b[0m\u001b[0;34m,\u001b[0m\u001b[0ml\u001b[0m\u001b[0;34m)\u001b[0m \u001b[0;32min\u001b[0m \u001b[0menumerate\u001b[0m\u001b[0;34m(\u001b[0m\u001b[0mzip\u001b[0m\u001b[0;34m(\u001b[0m\u001b[0mresponse\u001b[0m\u001b[0;34m,\u001b[0m \u001b[0mguess\u001b[0m\u001b[0;34m)\u001b[0m\u001b[0;34m)\u001b[0m\u001b[0;34m:\u001b[0m\u001b[0;34m\u001b[0m\u001b[0;34m\u001b[0m\u001b[0m\n\u001b[1;32m      5\u001b[0m         \u001b[0;32mif\u001b[0m \u001b[0mr\u001b[0m \u001b[0;34m==\u001b[0m \u001b[0;36m2\u001b[0m\u001b[0;34m:\u001b[0m \u001b[0;31m# Green: Correct letter and position\u001b[0m\u001b[0;34m\u001b[0m\u001b[0;34m\u001b[0m\u001b[0m\n\u001b[0;32m----> 6\u001b[0;31m             \u001b[0mwords\u001b[0m \u001b[0;34m=\u001b[0m \u001b[0;34m[\u001b[0m\u001b[0mw\u001b[0m \u001b[0;32mfor\u001b[0m \u001b[0mw\u001b[0m \u001b[0;32min\u001b[0m \u001b[0mwords\u001b[0m \u001b[0;32mif\u001b[0m \u001b[0mw\u001b[0m\u001b[0;34m[\u001b[0m\u001b[0midx\u001b[0m\u001b[0;34m]\u001b[0m\u001b[0;34m==\u001b[0m\u001b[0ml\u001b[0m\u001b[0;34m]\u001b[0m\u001b[0;34m\u001b[0m\u001b[0;34m\u001b[0m\u001b[0m\n\u001b[0m\u001b[1;32m      7\u001b[0m             \u001b[0mcolor_letters\u001b[0m\u001b[0;34m.\u001b[0m\u001b[0mappend\u001b[0m\u001b[0;34m(\u001b[0m\u001b[0ml\u001b[0m\u001b[0;34m)\u001b[0m\u001b[0;34m\u001b[0m\u001b[0;34m\u001b[0m\u001b[0m\n\u001b[1;32m      8\u001b[0m             \u001b[0;32mif\u001b[0m \u001b[0;32mnot\u001b[0m \u001b[0mwords\u001b[0m\u001b[0;34m:\u001b[0m\u001b[0;34m\u001b[0m\u001b[0;34m\u001b[0m\u001b[0m\n",
      "\u001b[0;31mKeyboardInterrupt\u001b[0m: "
     ]
    }
   ],
   "source": [
    "informations = [get_information(all_words,guess) for guess in list(all_words)[:10]]\n"
   ]
  },
  {
   "cell_type": "code",
   "execution_count": 188,
   "metadata": {},
   "outputs": [
    {
     "data": {
      "text/html": [
       "<div>\n",
       "<style scoped>\n",
       "    .dataframe tbody tr th:only-of-type {\n",
       "        vertical-align: middle;\n",
       "    }\n",
       "\n",
       "    .dataframe tbody tr th {\n",
       "        vertical-align: top;\n",
       "    }\n",
       "\n",
       "    .dataframe thead th {\n",
       "        text-align: right;\n",
       "    }\n",
       "</style>\n",
       "<table border=\"1\" class=\"dataframe\">\n",
       "  <thead>\n",
       "    <tr style=\"text-align: right;\">\n",
       "      <th></th>\n",
       "      <th>ord</th>\n",
       "      <th>information</th>\n",
       "    </tr>\n",
       "  </thead>\n",
       "  <tbody>\n",
       "    <tr>\n",
       "      <th>96</th>\n",
       "      <td>seret</td>\n",
       "      <td>7.011466</td>\n",
       "    </tr>\n",
       "    <tr>\n",
       "      <th>56</th>\n",
       "      <td>skeet</td>\n",
       "      <td>6.113415</td>\n",
       "    </tr>\n",
       "    <tr>\n",
       "      <th>50</th>\n",
       "      <td>beter</td>\n",
       "      <td>6.021064</td>\n",
       "    </tr>\n",
       "    <tr>\n",
       "      <th>92</th>\n",
       "      <td>tilse</td>\n",
       "      <td>5.696584</td>\n",
       "    </tr>\n",
       "    <tr>\n",
       "      <th>24</th>\n",
       "      <td>samer</td>\n",
       "      <td>5.684311</td>\n",
       "    </tr>\n",
       "    <tr>\n",
       "      <th>...</th>\n",
       "      <td>...</td>\n",
       "      <td>...</td>\n",
       "    </tr>\n",
       "    <tr>\n",
       "      <th>14</th>\n",
       "      <td>opgiv</td>\n",
       "      <td>3.577537</td>\n",
       "    </tr>\n",
       "    <tr>\n",
       "      <th>75</th>\n",
       "      <td>opråb</td>\n",
       "      <td>3.529832</td>\n",
       "    </tr>\n",
       "    <tr>\n",
       "      <th>0</th>\n",
       "      <td>påbid</td>\n",
       "      <td>3.350558</td>\n",
       "    </tr>\n",
       "    <tr>\n",
       "      <th>79</th>\n",
       "      <td>omhug</td>\n",
       "      <td>3.269102</td>\n",
       "    </tr>\n",
       "    <tr>\n",
       "      <th>57</th>\n",
       "      <td>ombyg</td>\n",
       "      <td>3.224305</td>\n",
       "    </tr>\n",
       "  </tbody>\n",
       "</table>\n",
       "<p>100 rows × 2 columns</p>\n",
       "</div>"
      ],
      "text/plain": [
       "      ord  information\n",
       "96  seret     7.011466\n",
       "56  skeet     6.113415\n",
       "50  beter     6.021064\n",
       "92  tilse     5.696584\n",
       "24  samer     5.684311\n",
       "..    ...          ...\n",
       "14  opgiv     3.577537\n",
       "75  opråb     3.529832\n",
       "0   påbid     3.350558\n",
       "79  omhug     3.269102\n",
       "57  ombyg     3.224305\n",
       "\n",
       "[100 rows x 2 columns]"
      ]
     },
     "execution_count": 188,
     "metadata": {},
     "output_type": "execute_result"
    }
   ],
   "source": [
    "df = pd.DataFrame()\n",
    "df['ord'] = list(all_words)[:100]\n",
    "df['information'] = informations\n",
    "df.sort_values(by = 'information', ascending = False)"
   ]
  },
  {
   "cell_type": "code",
   "execution_count": 182,
   "metadata": {},
   "outputs": [
    {
     "data": {
      "text/plain": [
       "6.113414650810543"
      ]
     },
     "execution_count": 182,
     "metadata": {},
     "output_type": "execute_result"
    }
   ],
   "source": [
    "get_information(all_words,'skeet')"
   ]
  },
  {
   "cell_type": "code",
   "execution_count": 137,
   "metadata": {},
   "outputs": [
    {
     "name": "stdout",
     "output_type": "stream",
     "text": [
      "11729\n",
      "645\n",
      "173\n",
      "34\n",
      "14\n",
      "6\n"
     ]
    },
    {
     "data": {
      "text/plain": [
       "['sykke', 'skøje', 'sekse', 'skeje', 'søkke', 'sejse']"
      ]
     },
     "execution_count": 137,
     "metadata": {},
     "output_type": "execute_result"
    }
   ],
   "source": [
    "print(len(all_words))\n",
    "words = update_words(all_words, 'bores',[0,0,0,1,1])\n",
    "print(len(words))\n",
    "words = update_words(words, 'liste',[0,0,1,0,2])\n",
    "print(len(words))\n",
    "words = update_words(words, 'snude',[2,0,0,0,2])\n",
    "print(len(words))\n",
    "words = update_words(words, 'smage',[2,0,0,0,2])\n",
    "print(len(words))\n",
    "words = update_words(words, 'svæve',[2,0,0,0,2])\n",
    "print(len(words))\n",
    "words"
   ]
  },
  {
   "cell_type": "code",
   "execution_count": 132,
   "metadata": {},
   "outputs": [
    {
     "data": {
      "text/plain": [
       "['skeje']"
      ]
     },
     "execution_count": 132,
     "metadata": {},
     "output_type": "execute_result"
    }
   ],
   "source": [
    "[w for w in all_words if 'skeje' in w]"
   ]
  },
  {
   "cell_type": "code",
   "execution_count": null,
   "metadata": {},
   "outputs": [],
   "source": []
  }
 ],
 "metadata": {
  "interpreter": {
   "hash": "a8ea5f937f80efed7ff5ed8d01bbcc79941a53246aa7ac79a00fda1adb31a99c"
  },
  "kernelspec": {
   "display_name": "Python 3.7.4 ('base')",
   "language": "python",
   "name": "python3"
  },
  "language_info": {
   "codemirror_mode": {
    "name": "ipython",
    "version": 3
   },
   "file_extension": ".py",
   "mimetype": "text/x-python",
   "name": "python",
   "nbconvert_exporter": "python",
   "pygments_lexer": "ipython3",
   "version": "3.7.4"
  },
  "orig_nbformat": 4
 },
 "nbformat": 4,
 "nbformat_minor": 2
}
